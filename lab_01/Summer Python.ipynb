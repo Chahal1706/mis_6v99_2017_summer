{
 "cells": [
  {
   "cell_type": "code",
   "execution_count": 40,
   "metadata": {
    "collapsed": true
   },
   "outputs": [],
   "source": [
    "Tail_Numbers = ['T1','T2','T3','T4','T5','T6']"
   ]
  },
  {
   "cell_type": "code",
   "execution_count": 23,
   "metadata": {
    "collapsed": true
   },
   "outputs": [],
   "source": [
    "import numpy as num\n",
    "flight_time = num.array([['AUS','DAL',50],['AUS','HOU',45],['DAL','HOU',65]])\n",
    "print(flight_time)"
   ]
  },
  {
   "cell_type": "code",
   "execution_count": 27,
   "metadata": {},
   "outputs": [
    {
     "name": "stdout",
     "output_type": "stream",
     "text": [
      "DAL\n"
     ]
    }
   ],
   "source": [
    "print(flight_time[0,1])"
   ]
  },
  {
   "cell_type": "code",
   "execution_count": 29,
   "metadata": {},
   "outputs": [
    {
     "name": "stdout",
     "output_type": "stream",
     "text": [
      "[['AUS' '1' '25']\n",
      " ['DAL' '2' '30']\n",
      " ['HOU' '3' '35']]\n"
     ]
    }
   ],
   "source": [
    "ground_time = num.array([['AUS',1,25],['DAL',2,30],['HOU',3,35]])\n",
    "print(ground_time)"
   ]
  },
  {
   "cell_type": "code",
   "execution_count": 41,
   "metadata": {},
   "outputs": [
    {
     "name": "stdout",
     "output_type": "stream",
     "text": [
      "['T1', 'T2', 'T3', 'T4', 'T5', 'T6']\n",
      "[['AUS' 'DAL' '50']\n",
      " ['AUS' 'HOU' '45']\n",
      " ['DAL' 'HOU' '65']]\n",
      "[['AUS' '1' '25']\n",
      " ['DAL' '2' '30']\n",
      " ['HOU' '3' '35']]\n"
     ]
    }
   ],
   "source": [
    "print(Tail_Numbers)\n",
    "print(flight_time)\n",
    "print(ground_time) "
   ]
  },
  {
   "cell_type": "code",
   "execution_count": 11,
   "metadata": {},
   "outputs": [],
   "source": [
    "flight_schedule = [['T1','AUS','DAL','0600','0650'],\n",
    "                   ['T2','DAL','HOU','0600','0705'],\n",
    "                   ['T3','DAL','HOU','0600','0705'],\n",
    "                   ['T4','HOU','AUS','0600','0645'],\n",
    "                   ['T5','HOU','DAL','0600','0705'],\n",
    "                   ['T6','HOU','DAL','0600','0705']]\n",
    "\n",
    "                "
   ]
  },
  {
   "cell_type": "code",
   "execution_count": 12,
   "metadata": {
    "collapsed": true
   },
   "outputs": [],
   "source": [
    "file_name = 'flight_schedule.csv'"
   ]
  },
  {
   "cell_type": "code",
   "execution_count": 13,
   "metadata": {
    "collapsed": true
   },
   "outputs": [],
   "source": [
    "file_name = 'flight_schedule.csv'"
   ]
  },
  {
   "cell_type": "code",
   "execution_count": 22,
   "metadata": {},
   "outputs": [],
   "source": [
    "def print_flight_schedule(fn, csv_hdr, flt_sched):\n",
    "    with open(fn,'wt') as f:\n",
    "        print(csv_hdr, file=f)\n",
    "        for s in flt_sched:\n",
    "            print(','.join(s), file=f)"
   ]
  },
  {
   "cell_type": "code",
   "execution_count": 23,
   "metadata": {
    "collapsed": true
   },
   "outputs": [],
   "source": [
    "# add the flights for T4, T5 and T6 to the list of lists below\n",
    "flight_schedule = [['T1','AUS','DAL','0600','0650'],\n",
    "['T2','DAL','HOU','0600','0705'],\n",
    "['T3','DAL','HOU','0600','0705']]"
   ]
  },
  {
   "cell_type": "code",
   "execution_count": 25,
   "metadata": {
    "collapsed": true
   },
   "outputs": [],
   "source": [
    "print_flight_schedule(file_name, csv_header, flight_schedule)"
   ]
  },
  {
   "cell_type": "code",
   "execution_count": 26,
   "metadata": {},
   "outputs": [
    {
     "data": {
      "text/plain": [
       "'C:\\\\Users\\\\chaha'"
      ]
     },
     "execution_count": 26,
     "metadata": {},
     "output_type": "execute_result"
    }
   ],
   "source": [
    "import os\n",
    "os.getcwd()"
   ]
  },
  {
   "cell_type": "code",
   "execution_count": null,
   "metadata": {
    "collapsed": true
   },
   "outputs": [],
   "source": []
  }
 ],
 "metadata": {
  "kernelspec": {
   "display_name": "Python 3",
   "language": "python",
   "name": "python3"
  },
  "language_info": {
   "codemirror_mode": {
    "name": "ipython",
    "version": 3
   },
   "file_extension": ".py",
   "mimetype": "text/x-python",
   "name": "python",
   "nbconvert_exporter": "python",
   "pygments_lexer": "ipython3",
   "version": "3.6.1"
  }
 },
 "nbformat": 4,
 "nbformat_minor": 2
}
